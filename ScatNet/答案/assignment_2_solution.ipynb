{
 "cells": [
  {
   "cell_type": "markdown",
   "metadata": {},
   "source": [
    "# Use the scattering transforms to build a Classification Model（散射网络进阶）\n",
    "\n",
    "在上个实验中（assignment_1），我们学习了什么是小波散射变换，并对其有了一个初步的认识（hope so...）, 但是在实际的使用中肯定不是用上个实验中那么简单的模型了，总之，在这里我们使用散射网络来搭建一个分类模型（基于Fashion-MNIST数据集，至于为啥不用大一点的，可以参考下面的注释QAQ）。\n",
    "\n",
    "This notebook is about classification. You will:\n",
    "\n",
    "- using the scattering transforms to bulid a **deep convolution Net**\n",
    "- use the model above to do classification on Fashion-MNIST\n",
    "\n",
    "\n",
    "*Note here, given that U may not be able to use a GPU to accelerate the train process , here our example is based on the Fashion-MNIST datasets, hope that it will works well for U, good luck!*"
   ]
  },
  {
   "cell_type": "code",
   "execution_count": 1,
   "metadata": {},
   "outputs": [],
   "source": [
    "# 下面这行命令可能不是必须的！！!\n",
    "# 如果你的 Notebook 老是挂掉然后重启的话可能这行命令是有用的~\n",
    "import os \n",
    "os.environ['KMP_DUPLICATE_LIB_OK']='True'"
   ]
  },
  {
   "cell_type": "code",
   "execution_count": 2,
   "metadata": {},
   "outputs": [],
   "source": [
    "# 首先，平平无奇的加载一些库\n",
    "import torch\n",
    "import torch.nn as nn\n",
    "import torch.nn.functional as F\n",
    "import torch.optim\n",
    "from torchvision import datasets, transforms\n",
    "from kymatio.torch import Scattering2D\n",
    "import argparse"
   ]
  },
  {
   "cell_type": "code",
   "execution_count": 3,
   "metadata": {},
   "outputs": [],
   "source": [
    "## 测试能否使用 GPU 加速\n",
    "use_cuda = torch.cuda.is_available()\n",
    "device = torch.device(\"cuda\" if use_cuda else \"cpu\")"
   ]
  },
  {
   "cell_type": "code",
   "execution_count": 4,
   "metadata": {},
   "outputs": [],
   "source": [
    "# 然后，获取数据集\n",
    "train_set = datasets.FashionMNIST(root='.data', train=True,\n",
    "                                  transform=transforms.ToTensor(),\n",
    "                                  download=True)\n",
    "test_set = datasets.FashionMNIST(root='.data', train=False,\n",
    "                                 transform=transforms.ToTensor(),\n",
    "                               download=True)"
   ]
  },
  {
   "cell_type": "markdown",
   "metadata": {},
   "source": [
    "## Need you to implement the follow function !!!\n",
    "\n",
    "回顾一下，假设我们输入是一张二维的灰度图像，它的大小是（B,C,H,W）,B代表batch-size,C代表通道数（RGB图像为3，灰度图像为1），HxW代表图像的分辨率了，那么散射网络的输出大小应当是 \n",
    "\n",
    "$$ (B,C,\\frac{1+LJ+L^{2}J(J-1)}{2},\\frac{H}{2^J},\\frac{W}{2^J} )$$\n",
    "\n",
    "请根据该关系完成下面的函数！！"
   ]
  },
  {
   "cell_type": "code",
   "execution_count": 5,
   "metadata": {},
   "outputs": [],
   "source": [
    "def get_scatter_transform(device):\n",
    "    shape = (28, 28, 1)\n",
    "    scattering = Scattering2D(J=2, shape=shape[:2]).to(device)\n",
    "    K = None\n",
    "    (h, w) = shape[:2]\n",
    "    ##############################################################################\n",
    "    # TODO: This function is to get the scattring transform obeject and return   #\n",
    "    #        the channels(represented by 'K') after scatting transform, please   #\n",
    "    #        implemrnt this fucntion according to the relationship above.        #\n",
    "    # Note the type of h and w is int                                            #\n",
    "    ##############################################################################\n",
    "    K = 81 * 1\n",
    "    (h, w) = (h//4, w//4)\n",
    "    ##############################################################################\n",
    "    #                             END OF YOUR CODE                               #\n",
    "    ##############################################################################\n",
    "    return scattering, K, (h, w)"
   ]
  },
  {
   "cell_type": "markdown",
   "metadata": {},
   "source": [
    "## Bulid our mode\n",
    "\n",
    "接下来我们需要创建一个类我们建立一个简单的分类模型（只有两个卷积层，不过对于FMNIST这种大小的数据集也够了~）\n",
    "\n",
    "这个模型的结构如下：\n",
    "\n",
    "```python\n",
    "Scattering2dCNN(\n",
    "  (bn): BatchNorm2d(81, eps=1e-05, momentum=0.1, affine=True, track_running_stats=True)\n",
    "  (features): Sequential(\n",
    "    (0): Conv2d(81, 32, kernel_size=(3, 3), stride=(2, 2), padding=(1, 1))\n",
    "    (1): ReLU(inplace=True)\n",
    "    (2): Conv2d(32, 64, kernel_size=(3, 3), stride=(1, 1), padding=(1, 1))\n",
    "    (3): ReLU(inplace=True)\n",
    "  )\n",
    "  (classifier): Sequential(\n",
    "    (0): Linear(in_features=1024, out_features=32, bias=True)\n",
    "    (1): ReLU(inplace=True)\n",
    "    (2): Linear(in_features=32, out_features=10, bias=True)\n",
    "  )\n",
    ")\n",
    "```\n",
    "\n",
    "注意到在如上的模型种我们并没有将散射变换集成到我们的模型之中（这当然也是可以的~），但是由于散射网络并不需要学习，所以这两种方式其实区别不大\n",
    "\n",
    "anyway, 这里需要你把上面这个模型实现出来QAQ!\n"
   ]
  },
  {
   "cell_type": "code",
   "execution_count": 6,
   "metadata": {},
   "outputs": [],
   "source": [
    "class Scattering2dCNN(nn.Module):\n",
    "    '''\n",
    "        Simple CNN model with features extrated bu ScatNet\n",
    "    '''\n",
    "    def __init__(self, in_channels):\n",
    "        super(Scattering2dCNN, self).__init__()\n",
    "        self.in_channels = in_channels\n",
    "        \n",
    "        self.bn = None\n",
    "        self.features = None\n",
    "        self.classifier = None\n",
    "        \n",
    "        self.build()\n",
    "\n",
    "    def build(self):\n",
    "        ##############################################################################\n",
    "        # TODO:  implement the build function to realize a model showed above        #\n",
    "        ##############################################################################\n",
    "        self.bn = nn.BatchNorm2d(self.in_channels)\n",
    "        layers = []\n",
    "        c = self.in_channels\n",
    "        \n",
    "        ch1, ch2 = (32, 64)\n",
    "        cfg = [(ch1, 3, 2, 1), (ch2, 3, 1, 1)]\n",
    "        for v in cfg:\n",
    "            if v == 'M':\n",
    "                layers += [nn.MaxPool2d(kernel_size=2, stride=1)]\n",
    "            else:\n",
    "                filters, k_size, stride, pad = v\n",
    "                conv2d = nn.Conv2d(c, filters, kernel_size=k_size, stride=stride, padding=pad)\n",
    "                layers += [conv2d, nn.ReLU(inplace=True)]\n",
    "                c = filters\n",
    "\n",
    "        self.features = nn.Sequential(*layers)\n",
    "        \n",
    "        hidden = 32\n",
    "        self.classifier = nn.Sequential(nn.Linear(c * 4 * 4, hidden),\n",
    "                                        nn.ReLU(inplace=True),\n",
    "                                        nn.Linear(hidden, 10))\n",
    "        ##############################################################################\n",
    "        #                             END OF YOUR CODE                               #\n",
    "        ##############################################################################\n",
    "        \n",
    "\n",
    "    def forward(self, x):\n",
    "        x = self.bn(x.view(-1, self.in_channels, 7, 7))\n",
    "        x = self.features(x)\n",
    "        x = x.view(x.size(0), -1)\n",
    "        x = self.classifier(x)\n",
    "        return x"
   ]
  },
  {
   "cell_type": "markdown",
   "metadata": {},
   "source": [
    "## It's your job to finish the train process\n",
    "\n",
    "请将训练过程补充完整，如果实在不会的话，可以参考下面的 test 函数~~~"
   ]
  },
  {
   "cell_type": "code",
   "execution_count": 7,
   "metadata": {},
   "outputs": [],
   "source": [
    "# the function of train process\n",
    "def train(model, device, train_loader, optimizer, epoch, scattering):\n",
    "    \n",
    "    model.train()\n",
    "    \n",
    "    num_examples = 0\n",
    "    correct = 0\n",
    "    train_loss = 0.0\n",
    "    \n",
    "    for batch_idx, (data, target) in enumerate(train_loader):\n",
    "        data, target = data.to(device), target.to(device)\n",
    "        \n",
    "        output = None\n",
    "        loss = None\n",
    "        ##############################################################################\n",
    "        # TODO:  implement the train process                                        #\n",
    "        # Note the the overall process is:                                          #\n",
    "        #             input-> scattering transform -> CNN -> output                 #\n",
    "        # Hint: the loss function could be Cross entropy loss function              #\n",
    "        ##############################################################################\n",
    "        optimizer.zero_grad()\n",
    "        output = model(scattering(data))\n",
    "        loss = F.cross_entropy(output, target)\n",
    "        loss.backward()\n",
    "        optimizer.step()\n",
    "        ##############################################################################\n",
    "        #                             END OF YOUR CODE                               #\n",
    "        ##############################################################################\n",
    "        \n",
    "        pred = output.max(1, keepdim=True)[1]\n",
    "        correct += pred.eq(target.view_as(pred)).sum().item()\n",
    "        train_loss += F.cross_entropy(output, target).item()\n",
    "        num_examples += len(data)\n",
    "            \n",
    "    train_loss /= batch_idx\n",
    "    train_acc = 100. * correct / num_examples\n",
    "    \n",
    "    print(f'Train set: Average loss: {train_loss:.4f}, '\n",
    "            f'Accuracy: {correct}/{num_examples} ({train_acc:.2f}%)')\n",
    "    \n",
    "    return train_loss, train_acc"
   ]
  },
  {
   "cell_type": "code",
   "execution_count": 8,
   "metadata": {},
   "outputs": [],
   "source": [
    "# the function of test process\n",
    "def test(model, device, test_loader, scattering):\n",
    "    model.eval()\n",
    "    \n",
    "    num_batchs = 0\n",
    "    num_examples = 0\n",
    "    test_loss = 0\n",
    "    correct = 0\n",
    "\n",
    "    with torch.no_grad():\n",
    "        for data, target in test_loader:\n",
    "            data, target = data.to(device), target.to(device)\n",
    "            output = model(scattering(data))\n",
    "            test_loss += F.cross_entropy(output, target).item()\n",
    "            pred = output.max(1, keepdim=True)[1]\n",
    "            correct += pred.eq(target.view_as(pred)).sum().item()\n",
    "            num_examples += len(data)\n",
    "            num_batchs += 1\n",
    "\n",
    "    test_loss /= num_batchs\n",
    "    test_acc = 100. * correct / num_examples\n",
    "\n",
    "    print(f'Test set: Average loss: {test_loss:.4f}, '\n",
    "          f'Accuracy: {correct}/{num_examples} ({test_acc:.2f}%)')\n",
    "\n",
    "    return test_loss, test_acc"
   ]
  },
  {
   "cell_type": "markdown",
   "metadata": {},
   "source": [
    "## 现在开始我们的主函数\n"
   ]
  },
  {
   "cell_type": "code",
   "execution_count": 9,
   "metadata": {},
   "outputs": [
    {
     "name": "stdout",
     "output_type": "stream",
     "text": [
      "Scattering2dCNN(\n",
      "  (bn): BatchNorm2d(81, eps=1e-05, momentum=0.1, affine=True, track_running_stats=True)\n",
      "  (features): Sequential(\n",
      "    (0): Conv2d(81, 32, kernel_size=(3, 3), stride=(2, 2), padding=(1, 1))\n",
      "    (1): ReLU(inplace=True)\n",
      "    (2): Conv2d(32, 64, kernel_size=(3, 3), stride=(1, 1), padding=(1, 1))\n",
      "    (3): ReLU(inplace=True)\n",
      "  )\n",
      "  (classifier): Sequential(\n",
      "    (0): Linear(in_features=1024, out_features=32, bias=True)\n",
      "    (1): ReLU(inplace=True)\n",
      "    (2): Linear(in_features=32, out_features=10, bias=True)\n",
      "  )\n",
      ")\n"
     ]
    }
   ],
   "source": [
    "# 获取我们的散射网络的对象\n",
    "scattering, K, _ = get_scatter_transform(device)\n",
    "\n",
    "batch_size = 128\n",
    "\n",
    "# DataLoaders\n",
    "if use_cuda:\n",
    "    num_workers = 4\n",
    "    pin_memory = True\n",
    "else:\n",
    "    num_workers = None\n",
    "    pin_memory = False\n",
    "    \n",
    "train_loader = torch.utils.data.DataLoader(\n",
    "        train_set, batch_size=batch_size, shuffle=True, num_workers=num_workers, pin_memory=pin_memory)\n",
    "\n",
    "test_loader = torch.utils.data.DataLoader(\n",
    "        test_set, batch_size=batch_size, shuffle=False, num_workers=num_workers, pin_memory=pin_memory)\n",
    "\n",
    "# then load our model\n",
    "model = Scattering2dCNN(K).to(device)\n",
    "\n",
    "## 定义优化器\n",
    "optimizer = torch.optim.Adam(model.parameters())\n",
    "\n",
    "## 可以看看你建立的模型是啥个样子\n",
    "print(model)"
   ]
  },
  {
   "cell_type": "markdown",
   "metadata": {},
   "source": [
    "## 所以咱们这就开始训练了~~\n",
    "\n",
    "考虑到大家可能在机房可能没有显卡，这个epoch就设置的比较小，当然这个也是小问题了, 大家可以根据实际情况自己修改~"
   ]
  },
  {
   "cell_type": "code",
   "execution_count": 10,
   "metadata": {},
   "outputs": [
    {
     "name": "stdout",
     "output_type": "stream",
     "text": [
      "\n",
      "Epoch: 0\n",
      "Train set: Average loss: 0.4688, Accuracy: 49879/60000 (83.13%)\n",
      "Test set: Average loss: 0.3197, Accuracy: 8827/10000 (88.27%)\n",
      "\n",
      "Epoch: 1\n",
      "Train set: Average loss: 0.2834, Accuracy: 53837/60000 (89.73%)\n",
      "Test set: Average loss: 0.3029, Accuracy: 8887/10000 (88.87%)\n",
      "\n",
      "Epoch: 2\n",
      "Train set: Average loss: 0.2478, Accuracy: 54522/60000 (90.87%)\n",
      "Test set: Average loss: 0.2570, Accuracy: 9043/10000 (90.43%)\n",
      "\n",
      "Epoch: 3\n",
      "Train set: Average loss: 0.2217, Accuracy: 55107/60000 (91.84%)\n",
      "Test set: Average loss: 0.2530, Accuracy: 9045/10000 (90.45%)\n",
      "\n",
      "Epoch: 4\n",
      "Train set: Average loss: 0.2039, Accuracy: 55518/60000 (92.53%)\n",
      "Test set: Average loss: 0.2498, Accuracy: 9099/10000 (90.99%)\n",
      "\n",
      "Epoch: 5\n",
      "Train set: Average loss: 0.1894, Accuracy: 55802/60000 (93.00%)\n",
      "Test set: Average loss: 0.2528, Accuracy: 9084/10000 (90.84%)\n",
      "\n",
      "Epoch: 6\n",
      "Train set: Average loss: 0.1778, Accuracy: 56070/60000 (93.45%)\n",
      "Test set: Average loss: 0.2307, Accuracy: 9160/10000 (91.60%)\n",
      "\n",
      "Epoch: 7\n",
      "Train set: Average loss: 0.1614, Accuracy: 56366/60000 (93.94%)\n",
      "Test set: Average loss: 0.2375, Accuracy: 9172/10000 (91.72%)\n",
      "\n",
      "Epoch: 8\n",
      "Train set: Average loss: 0.1497, Accuracy: 56710/60000 (94.52%)\n",
      "Test set: Average loss: 0.2413, Accuracy: 9162/10000 (91.62%)\n",
      "\n",
      "Epoch: 9\n",
      "Train set: Average loss: 0.1392, Accuracy: 56862/60000 (94.77%)\n",
      "Test set: Average loss: 0.2493, Accuracy: 9185/10000 (91.85%)\n",
      "\n",
      "Epoch: 10\n",
      "Train set: Average loss: 0.1286, Accuracy: 57136/60000 (95.23%)\n",
      "Test set: Average loss: 0.2651, Accuracy: 9152/10000 (91.52%)\n",
      "\n",
      "Epoch: 11\n",
      "Train set: Average loss: 0.1172, Accuracy: 57391/60000 (95.65%)\n",
      "Test set: Average loss: 0.2702, Accuracy: 9136/10000 (91.36%)\n",
      "\n",
      "Epoch: 12\n",
      "Train set: Average loss: 0.1114, Accuracy: 57479/60000 (95.80%)\n",
      "Test set: Average loss: 0.2782, Accuracy: 9145/10000 (91.45%)\n",
      "\n",
      "Epoch: 13\n",
      "Train set: Average loss: 0.1011, Accuracy: 57792/60000 (96.32%)\n",
      "Test set: Average loss: 0.2804, Accuracy: 9197/10000 (91.97%)\n",
      "\n",
      "Epoch: 14\n",
      "Train set: Average loss: 0.0938, Accuracy: 57863/60000 (96.44%)\n",
      "Test set: Average loss: 0.2898, Accuracy: 9186/10000 (91.86%)\n",
      "\n",
      "Epoch: 15\n",
      "Train set: Average loss: 0.0874, Accuracy: 58048/60000 (96.75%)\n",
      "Test set: Average loss: 0.3058, Accuracy: 9165/10000 (91.65%)\n",
      "\n",
      "Epoch: 16\n",
      "Train set: Average loss: 0.0778, Accuracy: 58263/60000 (97.11%)\n",
      "Test set: Average loss: 0.3014, Accuracy: 9193/10000 (91.93%)\n",
      "\n",
      "Epoch: 17\n",
      "Train set: Average loss: 0.0768, Accuracy: 58282/60000 (97.14%)\n",
      "Test set: Average loss: 0.3285, Accuracy: 9103/10000 (91.03%)\n",
      "\n",
      "Epoch: 18\n",
      "Train set: Average loss: 0.0681, Accuracy: 58512/60000 (97.52%)\n",
      "Test set: Average loss: 0.3253, Accuracy: 9180/10000 (91.80%)\n",
      "\n",
      "Epoch: 19\n",
      "Train set: Average loss: 0.0648, Accuracy: 58520/60000 (97.53%)\n",
      "Test set: Average loss: 0.3626, Accuracy: 9156/10000 (91.56%)\n"
     ]
    }
   ],
   "source": [
    "train_loss_history = []\n",
    "train_acc_history = []\n",
    "test_acc_history = []\n",
    "for epoch in range(0, 20):\n",
    "    print(f\"\\nEpoch: {epoch}\")\n",
    "    trian_loss, train_acc = train(model, device, train_loader, optimizer, epoch+1, scattering)\n",
    "    _, test_acc = test(model, device, test_loader, scattering)\n",
    "    train_loss_history.append(trian_loss)\n",
    "    train_acc_history.append(train_acc)\n",
    "    test_acc_history.append(test_acc)"
   ]
  },
  {
   "cell_type": "code",
   "execution_count": 11,
   "metadata": {},
   "outputs": [
    {
     "name": "stderr",
     "output_type": "stream",
     "text": [
      "No handles with labels found to put in legend.\n"
     ]
    },
    {
     "data": {
      "image/png": "[encoded data removed]",
      "text/plain": [
       "<Figure size 1080x864 with 2 Axes>"
      ]
     },
     "metadata": {
      "needs_background": "light"
     },
     "output_type": "display_data"
    }
   ],
   "source": [
    "import matplotlib.pyplot as plt\n",
    "\n",
    "# Run this cell to visualize training loss and train / val accuracy\n",
    "plt.subplot(2, 1, 1)\n",
    "plt.title(' Train loss')\n",
    "plt.plot(train_loss_history, '-*')\n",
    "plt.legend(loc='lower right')\n",
    "plt.xlabel('Iteration')\n",
    "\n",
    "plt.subplot(2, 1, 2)\n",
    "plt.title('Accuracy')\n",
    "plt.plot(train_acc_history, '-o', label='train')\n",
    "plt.plot(test_acc_history, '-o', label='test')\n",
    "plt.plot([0.5] * len(test_acc_history), 'k--')\n",
    "plt.xlabel('Epoch')\n",
    "plt.legend(loc='lower right')\n",
    "plt.gcf().set_size_inches(15, 12)\n",
    "plt.show()"
   ]
  },
  {
   "cell_type": "markdown",
   "metadata": {},
   "source": [
    "## 到这里就结束了！！\n",
    "\n",
    "首先按照惯例给出我的训练结果做一个参考：\n",
    "\n",
    "![avatar](./images/assignment_2_1.png)\n",
    "\n",
    "如果你一步步的做的话，我想得到类似的结果应该问题不大，其实若是你细致一些的话，你会发现其实跑几个Epoch模型就已经过拟合了，但是这并不是这里的重点，总之，到这里你已经对散射网络有了一个基本的了解了,希望这能对你有所帮助，再会~\n"
   ]
  },
  {
   "cell_type": "code",
   "execution_count": null,
   "metadata": {},
   "outputs": [],
   "source": []
  }
 ],
 "metadata": {
  "kernelspec": {
   "display_name": "Python [conda env:d2l_pytorch]",
   "language": "python",
   "name": "conda-env-d2l_pytorch-py"
  },
  "language_info": {
   "codemirror_mode": {
    "name": "ipython",
    "version": 3
   },
   "file_extension": ".py",
   "mimetype": "text/x-python",
   "name": "python",
   "nbconvert_exporter": "python",
   "pygments_lexer": "ipython3",
   "version": "3.7.7"
  }
 },
 "nbformat": 4,
 "nbformat_minor": 5
}
